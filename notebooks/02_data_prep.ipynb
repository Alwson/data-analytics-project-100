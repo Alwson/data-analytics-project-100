{
 "cells": [
  {
   "cell_type": "code",
   "execution_count": 9,
   "id": "ca23fd57-60b6-4449-95fc-843f0d8f6d7d",
   "metadata": {},
   "outputs": [
    {
     "data": {
      "text/plain": [
       "(                                   uuid platform  \\\n",
       " 0  1de9ea66-70d3-4a1f-8735-df5ef7697fb9      web   \n",
       " 1  f149f542-e935-4870-9734-6b4501eaf614      web   \n",
       " 2  f149f542-e935-4870-9734-6b4501eaf614      web   \n",
       " 3  08f0ebd4-950c-4dd9-8e97-b5bdf073eed1      web   \n",
       " 4  08f0ebd4-950c-4dd9-8e97-b5bdf073eed1      web   \n",
       " \n",
       "                                           user_agent                 date  \n",
       " 0  Mozilla/5.0 (Macintosh; Intel Mac OS X 10_11_2...  2023-03-01T13:29:22  \n",
       " 1  Mozilla/5.0 (X11; CrOS x86_64 8172.45.0) Apple...  2023-03-01T16:44:28  \n",
       " 2  Mozilla/5.0 (X11; CrOS x86_64 8172.45.0) Apple...  2023-03-06T06:12:36  \n",
       " 3  Mozilla/5.0 (X11; Ubuntu; Linux x86_64; rv:109...  2023-03-01T20:16:37  \n",
       " 4  Mozilla/5.0 (X11; Ubuntu; Linux x86_64; rv:109...  2023-03-05T17:42:47  ,\n",
       "                   date  user_id                    email platform  \\\n",
       " 0  2023-03-01T00:25:39  8838849     joseph95@example.org      web   \n",
       " 1  2023-03-01T14:53:01  8741065  janetsuarez@example.net      web   \n",
       " 2  2023-03-01T14:27:36  1866654     robert67@example.org      web   \n",
       " 3  2023-03-01T02:42:34  1577584         elam@example.net      web   \n",
       " 4  2023-03-01T10:27:14  4765395  stephanie68@example.net      web   \n",
       " \n",
       "   registration_type  \n",
       " 0            google  \n",
       " 1            yandex  \n",
       " 2            google  \n",
       " 3             apple  \n",
       " 4            yandex  )"
      ]
     },
     "execution_count": 9,
     "metadata": {},
     "output_type": "execute_result"
    }
   ],
   "source": [
    "import pandas as pd\n",
    "\n",
    "visits = pd.read_csv(\"../data/raw/visits.csv\")\n",
    "regs   = pd.read_csv(\"../data/raw/regs.csv\")\n",
    "\n",
    "visits.head(), regs.head()"
   ]
  },
  {
   "cell_type": "code",
   "execution_count": 10,
   "id": "214bd8d5-7cfc-4d69-8ea3-241bac1026e6",
   "metadata": {},
   "outputs": [
    {
     "data": {
      "text/plain": [
       "(uuid                  object\n",
       " platform              object\n",
       " user_agent            object\n",
       " date          datetime64[ns]\n",
       " dtype: object,\n",
       " date                 datetime64[ns]\n",
       " user_id                      object\n",
       " email                        object\n",
       " platform                     object\n",
       " registration_type            object\n",
       " dtype: object)"
      ]
     },
     "execution_count": 10,
     "metadata": {},
     "output_type": "execute_result"
    }
   ],
   "source": [
    "# Преобразуем колонки к удобному виду\n",
    "\n",
    "# переводим названия колонок в нижний регистр (на всякий случай)\n",
    "visits.columns = [c.lower() for c in visits.columns]\n",
    "regs.columns = [c.lower() for c in regs.columns]\n",
    "\n",
    "# даты\n",
    "visits[\"date\"] = pd.to_datetime(visits[\"date\"], errors=\"coerce\")\n",
    "regs[\"date\"] = pd.to_datetime(regs[\"date\"], errors=\"coerce\")\n",
    "\n",
    "# идентификаторы как строки\n",
    "visits[\"uuid\"] = visits[\"uuid\"].astype(str)\n",
    "regs[\"user_id\"] = regs[\"user_id\"].astype(str)\n",
    "\n",
    "# категории к нижнему регистру\n",
    "for df, cols in [(visits, [\"platform\"]), (regs, [\"platform\", \"registration_type\"])]:\n",
    "    for c in cols:\n",
    "        df[c] = df[c].astype(str).str.strip().str.lower()\n",
    "\n",
    "visits.dtypes, regs.dtypes\n"
   ]
  },
  {
   "cell_type": "code",
   "execution_count": 11,
   "id": "4c84d8ac-45f5-45f1-a825-7187d83e751c",
   "metadata": {},
   "outputs": [
    {
     "name": "stdout",
     "output_type": "stream",
     "text": [
      "Visits shape: (1000, 4)\n",
      "Registrations shape: (1000, 5)\n",
      "Доля дубликатов в visits: 0.0\n",
      "Доля дубликатов в registrations: 0.0\n"
     ]
    }
   ],
   "source": [
    "print(\"Visits shape:\", visits.shape)\n",
    "print(\"Registrations shape:\", regs.shape)\n",
    "\n",
    "print(\"Доля дубликатов в visits:\", visits.duplicated().mean())\n",
    "print(\"Доля дубликатов в registrations:\", regs.duplicated().mean())"
   ]
  },
  {
   "cell_type": "code",
   "execution_count": 12,
   "id": "8d1822dc-da8b-4957-b68d-bd96526221e2",
   "metadata": {},
   "outputs": [
    {
     "name": "stdout",
     "output_type": "stream",
     "text": [
      "Пропуски в visits:\n",
      "uuid          0.0\n",
      "platform      0.0\n",
      "user_agent    0.0\n",
      "date          0.0\n",
      "dtype: float64\n",
      "\n",
      "Пропуски в registrations:\n",
      "date                 0.0\n",
      "user_id              0.0\n",
      "email                0.0\n",
      "platform             0.0\n",
      "registration_type    0.0\n",
      "dtype: float64\n"
     ]
    }
   ],
   "source": [
    "print(\"Пропуски в visits:\")\n",
    "print(visits.isna().mean())\n",
    "\n",
    "print(\"\\nПропуски в registrations:\")\n",
    "print(regs.isna().mean())"
   ]
  },
  {
   "cell_type": "code",
   "execution_count": 13,
   "id": "ecb1afc5-cd04-4b46-a67c-470c39f22c4b",
   "metadata": {},
   "outputs": [
    {
     "name": "stdout",
     "output_type": "stream",
     "text": [
      "Visits by platform:\n",
      "platform\n",
      "web        954\n",
      "android     27\n",
      "ios         19\n",
      "Name: count, dtype: int64\n",
      "\n",
      "Registrations by platform:\n",
      "platform\n",
      "android    517\n",
      "web        265\n",
      "ios        218\n",
      "Name: count, dtype: int64\n",
      "\n",
      "Registration types:\n",
      "registration_type\n",
      "email     446\n",
      "google    303\n",
      "apple     178\n",
      "yandex     73\n",
      "Name: count, dtype: int64\n"
     ]
    }
   ],
   "source": [
    "print(\"Visits by platform:\")\n",
    "print(visits[\"platform\"].value_counts())\n",
    "\n",
    "print(\"\\nRegistrations by platform:\")\n",
    "print(regs[\"platform\"].value_counts())\n",
    "\n",
    "print(\"\\nRegistration types:\")\n",
    "print(regs[\"registration_type\"].value_counts())"
   ]
  },
  {
   "cell_type": "code",
   "execution_count": 14,
   "id": "7ffbe0e6-9e15-40f9-bbeb-ebfec033d39a",
   "metadata": {},
   "outputs": [
    {
     "data": {
      "text/plain": [
       "{'begin': '2023-03-01', 'end': '2023-09-01'}"
      ]
     },
     "execution_count": 14,
     "metadata": {},
     "output_type": "execute_result"
    }
   ],
   "source": [
    "import pandas as pd\n",
    "import requests\n",
    "\n",
    "BASE = \"https://data-charts-api.hexlet.app\"\n",
    "BEGIN = \"2023-03-01\"\n",
    "END   = \"2023-09-01\"\n",
    "params = {\"begin\": BEGIN, \"end\": END}\n",
    "params"
   ]
  },
  {
   "cell_type": "code",
   "execution_count": 16,
   "id": "de5a7046-59fd-4fe0-a225-2021403ae133",
   "metadata": {},
   "outputs": [
    {
     "data": {
      "text/plain": [
       "(                                   uuid platform  \\\n",
       " 0  1de9ea66-70d3-4a1f-8735-df5ef7697fb9      web   \n",
       " 1  f149f542-e935-4870-9734-6b4501eaf614      web   \n",
       " 2  08f0ebd4-950c-4dd9-8e97-b5bdf073eed1      web   \n",
       " 3  19322fed-157c-49c6-b16e-2d5cabeb9592      web   \n",
       " 4  04762a22-3c9f-40c9-9ac9-6628c4381836      web   \n",
       " \n",
       "                                           user_agent                date  \n",
       " 0  mozilla/5.0 (windows nt 10.0; win64; x64) appl... 2023-03-01 10:36:22  \n",
       " 1  mozilla/5.0 (windows nt 10.0; wow64; trident/7... 2023-03-01 06:25:00  \n",
       " 2  mozilla/5.0 (macintosh; intel mac os x 10_11_2... 2023-03-01 10:26:13  \n",
       " 3  mozilla/5.0 (macintosh; intel mac os x 10_15_7... 2023-03-01 12:33:06  \n",
       " 4  mozilla/5.0 (windows nt 10.0; win64; x64) appl... 2023-03-01 01:38:35  ,\n",
       " (263459, 4))"
      ]
     },
     "execution_count": 16,
     "metadata": {},
     "output_type": "execute_result"
    }
   ],
   "source": [
    "# 1) делаем GET-запрос\n",
    "resp_v = requests.get(f\"{BASE}/visits\", params=params, timeout=60)\n",
    "resp_v.raise_for_status()  # если что-то не так — будет понятная ошибка\n",
    "\n",
    "# 2) преобразуем JSON -> DataFrame\n",
    "visits_api = pd.DataFrame(resp_v.json())\n",
    "\n",
    "# 3) приводим имена и типы под нашу схему (как в файлах)\n",
    "# из API: visit_id, platform, user_agent, datetime\n",
    "# надо:   uuid,     platform, user_agent, date (datetime64)\n",
    "visits_api = visits_api.rename(columns={\"visit_id\": \"uuid\", \"datetime\": \"date\"})\n",
    "visits_api[\"date\"] = pd.to_datetime(visits_api[\"date\"], errors=\"coerce\")\n",
    "for c in [\"uuid\", \"platform\", \"user_agent\"]:\n",
    "    visits_api[c] = visits_api[c].astype(str).str.strip().str.lower()\n",
    "\n",
    "visits_api.head(), visits_api.shape\n"
   ]
  },
  {
   "cell_type": "code",
   "execution_count": 17,
   "id": "70a100e1-37d0-4409-a7c5-5c068396688f",
   "metadata": {},
   "outputs": [
    {
     "data": {
      "text/plain": [
       "(                 date                               user_id  \\\n",
       " 0 2023-03-01 07:40:13  2e0f6bb8-b029-4f45-a786-2b53990d37f1   \n",
       " 1 2023-03-01 13:14:00  f007f97c-9d8b-48b5-af08-119bb8f6d9b6   \n",
       " 2 2023-03-01 03:05:50  24ff46ae-32b3-4a74-8f27-7cf0b8f32f15   \n",
       " 3 2023-03-01 00:04:47  3e9914e1-5d73-4c23-b25d-b59a3aeb2b60   \n",
       " 4 2023-03-01 18:31:52  27f875fc-f8ce-4aeb-8722-0ecb283d0760   \n",
       " \n",
       "                         email platform registration_type  \n",
       " 0           ebyrd@example.org      web            google  \n",
       " 1    knightgerald@example.org      web             email  \n",
       " 2  cherylthompson@example.com      web             apple  \n",
       " 3       halldavid@example.org      web             email  \n",
       " 4        denise86@example.net      web            google  ,\n",
       " (21836, 5))"
      ]
     },
     "execution_count": 17,
     "metadata": {},
     "output_type": "execute_result"
    }
   ],
   "source": [
    "resp_r = requests.get(f\"{BASE}/registrations\", params=params, timeout=60)\n",
    "resp_r.raise_for_status()\n",
    "\n",
    "regs_api = pd.DataFrame(resp_r.json())\n",
    "\n",
    "# из API: user_id, email, platform, registration_type, datetime\n",
    "# надо:   user_id, email, platform, registration_type, date (datetime64)\n",
    "regs_api = regs_api.rename(columns={\"datetime\": \"date\"})\n",
    "regs_api[\"date\"] = pd.to_datetime(regs_api[\"date\"], errors=\"coerce\")\n",
    "for c in [\"user_id\", \"email\", \"platform\", \"registration_type\"]:\n",
    "    regs_api[c] = regs_api[c].astype(str).str.strip().str.lower()\n",
    "\n",
    "regs_api.head(), regs_api.shape"
   ]
  },
  {
   "cell_type": "code",
   "execution_count": 18,
   "id": "d4b19edb-2d55-49ff-a670-ae0022b05244",
   "metadata": {},
   "outputs": [
    {
     "name": "stdout",
     "output_type": "stream",
     "text": [
      "visits_api: (263459, 4) | nulls: {'uuid': 0.0, 'platform': 0.0, 'user_agent': 0.0, 'date': 0.0}\n",
      "regs_api: (21836, 5) | nulls: {'date': 0.0, 'user_id': 0.0, 'email': 0.0, 'platform': 0.0, 'registration_type': 0.0}\n",
      "\n",
      "Visits platforms:\n",
      " platform\n",
      "web        236301\n",
      "android     13972\n",
      "bot          7382\n",
      "ios          5804\n",
      "Name: count, dtype: int64\n",
      "\n",
      "Regs platforms:\n",
      " platform\n",
      "android    10582\n",
      "web         6877\n",
      "ios         4377\n",
      "Name: count, dtype: int64\n",
      "\n",
      "Regs types:\n",
      " registration_type\n",
      "email     8996\n",
      "google    7105\n",
      "apple     4006\n",
      "yandex    1729\n",
      "Name: count, dtype: int64\n"
     ]
    }
   ],
   "source": [
    "print(\"visits_api:\", visits_api.shape, \n",
    "      \"| nulls:\", visits_api.isna().mean().round(4).to_dict())\n",
    "print(\"regs_api:\", regs_api.shape, \n",
    "      \"| nulls:\", regs_api.isna().mean().round(4).to_dict())\n",
    "\n",
    "print(\"\\nVisits platforms:\\n\", visits_api[\"platform\"].value_counts().head(10))\n",
    "print(\"\\nRegs platforms:\\n\", regs_api[\"platform\"].value_counts().head(10))\n",
    "print(\"\\nRegs types:\\n\", regs_api[\"registration_type\"].value_counts().head(10))\n"
   ]
  },
  {
   "cell_type": "code",
   "execution_count": 19,
   "id": "f7ff0c26-184a-4df0-a60e-78a33701ca4f",
   "metadata": {},
   "outputs": [
    {
     "data": {
      "text/plain": [
       "'Saved!'"
      ]
     },
     "execution_count": 19,
     "metadata": {},
     "output_type": "execute_result"
    }
   ],
   "source": [
    "# каталоги под данные (если вдруг нет)\n",
    "import os\n",
    "os.makedirs(\"../data/raw\", exist_ok=True)\n",
    "os.makedirs(\"../data/processed\", exist_ok=True)\n",
    "\n",
    "# 1) «сырые» ответы API в JSON — на всякий случай\n",
    "import json\n",
    "with open(f\"../data/raw/visits_{BEGIN}_{END}.json\", \"w\", encoding=\"utf-8\") as f:\n",
    "    json.dump(resp_v.json(), f, ensure_ascii=False, indent=2)\n",
    "with open(f\"../data/raw/registrations_{BEGIN}_{END}.json\", \"w\", encoding=\"utf-8\") as f:\n",
    "    json.dump(resp_r.json(), f, ensure_ascii=False, indent=2)\n",
    "\n",
    "# 2) «чистые» CSV для дальнейшей работы\n",
    "visits_api.to_csv(\"../data/processed/visits_api_clean.csv\", index=False)\n",
    "regs_api.to_csv(\"../data/processed/registrations_api_clean.csv\", index=False)\n",
    "\n",
    "\"Saved!\""
   ]
  },
  {
   "cell_type": "code",
   "execution_count": 20,
   "id": "a96a3980-85bb-4a82-ab23-1d4242a30bc0",
   "metadata": {},
   "outputs": [
    {
     "name": "stdout",
     "output_type": "stream",
     "text": [
      "local visits date range: 2023-03-01 00:05:35 → 2023-03-07 23:05:08\n",
      "api   visits date range: 2023-03-01 00:00:43 → 2023-08-31 23:52:57\n",
      "local regs   date range: 2023-03-01 00:12:22 → 2023-03-05 22:04:01\n",
      "api   regs   date range: 2023-03-01 00:04:47 → 2023-08-31 23:43:26\n"
     ]
    }
   ],
   "source": [
    "v_local = pd.read_csv(\"../data/raw/visits.csv\")\n",
    "r_local = pd.read_csv(\"../data/raw/regs.csv\")\n",
    "\n",
    "v_local[\"date\"] = pd.to_datetime(v_local[\"date\"], errors=\"coerce\")\n",
    "r_local[\"date\"] = pd.to_datetime(r_local[\"date\"], errors=\"coerce\")\n",
    "\n",
    "print(\"local visits date range:\", v_local[\"date\"].min(), \"→\", v_local[\"date\"].max())\n",
    "print(\"api   visits date range:\", visits_api[\"date\"].min(), \"→\", visits_api[\"date\"].max())\n",
    "\n",
    "print(\"local regs   date range:\", r_local[\"date\"].min(), \"→\", r_local[\"date\"].max())\n",
    "print(\"api   regs   date range:\", regs_api[\"date\"].min(), \"→\", regs_api[\"date\"].max())"
   ]
  },
  {
   "cell_type": "code",
   "execution_count": null,
   "id": "894bae7d-f341-466d-8eec-6bda4e24ff8e",
   "metadata": {},
   "outputs": [],
   "source": []
  }
 ],
 "metadata": {
  "kernelspec": {
   "display_name": "Python 3 (ipykernel)",
   "language": "python",
   "name": "python3"
  },
  "language_info": {
   "codemirror_mode": {
    "name": "ipython",
    "version": 3
   },
   "file_extension": ".py",
   "mimetype": "text/x-python",
   "name": "python",
   "nbconvert_exporter": "python",
   "pygments_lexer": "ipython3",
   "version": "3.12.7"
  }
 },
 "nbformat": 4,
 "nbformat_minor": 5
}
