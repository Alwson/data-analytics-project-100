{
 "cells": [
  {
   "cell_type": "code",
   "execution_count": 5,
   "id": "70dbd6b7-50af-4605-8cf5-aef8f871b70a",
   "metadata": {
    "scrolled": true
   },
   "outputs": [
    {
     "name": "stdout",
     "output_type": "stream",
     "text": [
      "Requirement already satisfied: matplotlib in c:\\users\\lisol\\onedrive\\рабочий стол\\proj3python\\data-analytics-project-100\\.venv\\lib\\site-packages (3.10.6)\n",
      "Requirement already satisfied: pandas in c:\\users\\lisol\\onedrive\\рабочий стол\\proj3python\\data-analytics-project-100\\.venv\\lib\\site-packages (2.3.2)\n",
      "Requirement already satisfied: requests in c:\\users\\lisol\\onedrive\\рабочий стол\\proj3python\\data-analytics-project-100\\.venv\\lib\\site-packages (2.32.5)\n",
      "Requirement already satisfied: python-dotenv in c:\\users\\lisol\\onedrive\\рабочий стол\\proj3python\\data-analytics-project-100\\.venv\\lib\\site-packages (1.1.1)\n",
      "Requirement already satisfied: contourpy>=1.0.1 in c:\\users\\lisol\\onedrive\\рабочий стол\\proj3python\\data-analytics-project-100\\.venv\\lib\\site-packages (from matplotlib) (1.3.3)\n",
      "Requirement already satisfied: cycler>=0.10 in c:\\users\\lisol\\onedrive\\рабочий стол\\proj3python\\data-analytics-project-100\\.venv\\lib\\site-packages (from matplotlib) (0.12.1)\n",
      "Requirement already satisfied: fonttools>=4.22.0 in c:\\users\\lisol\\onedrive\\рабочий стол\\proj3python\\data-analytics-project-100\\.venv\\lib\\site-packages (from matplotlib) (4.59.2)\n",
      "Requirement already satisfied: kiwisolver>=1.3.1 in c:\\users\\lisol\\onedrive\\рабочий стол\\proj3python\\data-analytics-project-100\\.venv\\lib\\site-packages (from matplotlib) (1.4.9)\n",
      "Requirement already satisfied: numpy>=1.23 in c:\\users\\lisol\\onedrive\\рабочий стол\\proj3python\\data-analytics-project-100\\.venv\\lib\\site-packages (from matplotlib) (2.3.2)\n",
      "Requirement already satisfied: packaging>=20.0 in c:\\users\\lisol\\onedrive\\рабочий стол\\proj3python\\data-analytics-project-100\\.venv\\lib\\site-packages (from matplotlib) (25.0)\n",
      "Requirement already satisfied: pillow>=8 in c:\\users\\lisol\\onedrive\\рабочий стол\\proj3python\\data-analytics-project-100\\.venv\\lib\\site-packages (from matplotlib) (11.3.0)\n",
      "Requirement already satisfied: pyparsing>=2.3.1 in c:\\users\\lisol\\onedrive\\рабочий стол\\proj3python\\data-analytics-project-100\\.venv\\lib\\site-packages (from matplotlib) (3.2.3)\n",
      "Requirement already satisfied: python-dateutil>=2.7 in c:\\users\\lisol\\onedrive\\рабочий стол\\proj3python\\data-analytics-project-100\\.venv\\lib\\site-packages (from matplotlib) (2.9.0.post0)\n",
      "Requirement already satisfied: pytz>=2020.1 in c:\\users\\lisol\\onedrive\\рабочий стол\\proj3python\\data-analytics-project-100\\.venv\\lib\\site-packages (from pandas) (2025.2)\n",
      "Requirement already satisfied: tzdata>=2022.7 in c:\\users\\lisol\\onedrive\\рабочий стол\\proj3python\\data-analytics-project-100\\.venv\\lib\\site-packages (from pandas) (2025.2)\n",
      "Requirement already satisfied: charset_normalizer<4,>=2 in c:\\users\\lisol\\onedrive\\рабочий стол\\proj3python\\data-analytics-project-100\\.venv\\lib\\site-packages (from requests) (3.4.3)\n",
      "Requirement already satisfied: idna<4,>=2.5 in c:\\users\\lisol\\onedrive\\рабочий стол\\proj3python\\data-analytics-project-100\\.venv\\lib\\site-packages (from requests) (3.10)\n",
      "Requirement already satisfied: urllib3<3,>=1.21.1 in c:\\users\\lisol\\onedrive\\рабочий стол\\proj3python\\data-analytics-project-100\\.venv\\lib\\site-packages (from requests) (2.5.0)\n",
      "Requirement already satisfied: certifi>=2017.4.17 in c:\\users\\lisol\\onedrive\\рабочий стол\\proj3python\\data-analytics-project-100\\.venv\\lib\\site-packages (from requests) (2025.8.3)\n",
      "Requirement already satisfied: six>=1.5 in c:\\users\\lisol\\onedrive\\рабочий стол\\proj3python\\data-analytics-project-100\\.venv\\lib\\site-packages (from python-dateutil>=2.7->matplotlib) (1.17.0)\n"
     ]
    },
    {
     "name": "stderr",
     "output_type": "stream",
     "text": [
      "\n",
      "[notice] A new release of pip is available: 24.2 -> 25.2\n",
      "[notice] To update, run: python.exe -m pip install --upgrade pip\n"
     ]
    }
   ],
   "source": [
    "!pip install matplotlib pandas requests python-dotenv\n",
    "import pandas as pd\n",
    "import numpy as np\n",
    "import requests\n",
    "import matplotlib.pyplot as plt\n"
   ]
  },
  {
   "cell_type": "code",
   "execution_count": 3,
   "id": "d45cc089-2bd2-4a75-9661-21a3f7f1d2c3",
   "metadata": {},
   "outputs": [
    {
     "name": "stdout",
     "output_type": "stream",
     "text": [
      "API_URL: https://data-charts-api.hexlet.app\n",
      "DATE_BEGIN: 2023-03-01\n",
      "DATE_END: 2023-09-01\n"
     ]
    }
   ],
   "source": [
    "import os\n",
    "from dotenv import load_dotenv\n",
    "\n",
    "# Загружаем переменные окружения из .env\n",
    "load_dotenv()\n",
    "\n",
    "API_URL = os.getenv(\"API_URL\")\n",
    "DATE_BEGIN = os.getenv(\"DATE_BEGIN\")\n",
    "DATE_END = os.getenv(\"DATE_END\")\n",
    "\n",
    "print(\"API_URL:\", API_URL)\n",
    "print(\"DATE_BEGIN:\", DATE_BEGIN)\n",
    "print(\"DATE_END:\", DATE_END)"
   ]
  },
  {
   "cell_type": "code",
   "execution_count": 7,
   "id": "ca23fd57-60b6-4449-95fc-843f0d8f6d7d",
   "metadata": {},
   "outputs": [
    {
     "name": "stdout",
     "output_type": "stream",
     "text": [
      "Пробую загрузить из API с ретраями…\n",
      "OK из API: (255028, 4) (21094, 5)\n"
     ]
    }
   ],
   "source": [
    "import os, json, time\n",
    "import pandas as pd\n",
    "import requests\n",
    "from urllib3.util.retry import Retry\n",
    "from requests.adapters import HTTPAdapter\n",
    "\n",
    "# ---------- вспомогательные функции ----------\n",
    "def month_ranges(begin: str, end: str):\n",
    "    b = pd.to_datetime(begin).normalize()\n",
    "    e = pd.to_datetime(end).normalize()\n",
    "    starts = pd.date_range(b, e, freq=\"MS\")\n",
    "    if len(starts) == 0 or starts[0] != b:\n",
    "        starts = starts.insert(0, b)\n",
    "    ends = list(starts[1:] - pd.Timedelta(days=1)) + [e]\n",
    "    pairs = []\n",
    "    for s, t in zip(starts, ends):\n",
    "        if s > e:\n",
    "            break\n",
    "        t = min(t, e)\n",
    "        if s <= t:\n",
    "            pairs.append((s.strftime(\"%Y-%m-%d\"), t.strftime(\"%Y-%m-%d\")))\n",
    "    return pairs\n",
    "\n",
    "def make_session(total=4, backoff=0.5, timeout=(5, 120)):\n",
    "    sess = requests.Session()\n",
    "    retry = Retry(\n",
    "        total=total,\n",
    "        read=total,\n",
    "        connect=total,\n",
    "        backoff_factor=backoff,\n",
    "        status_forcelist=(429, 500, 502, 503, 504),\n",
    "        allowed_methods=frozenset([\"GET\"]),\n",
    "        raise_on_status=False,\n",
    "    )\n",
    "    adapter = HTTPAdapter(max_retries=retry, pool_connections=10, pool_maxsize=10)\n",
    "    sess.mount(\"https://\", adapter)\n",
    "    sess.mount(\"http://\", adapter)\n",
    "    sess.request_timeout = timeout\n",
    "    return sess\n",
    "\n",
    "def fetch_table_chunked(api_url_base: str, route: str, begin: str, end: str, session: requests.Session):\n",
    "    frames = []\n",
    "    for b, e in month_ranges(begin, end):\n",
    "        r = session.get(f\"{api_url_base}/{route}\", params={\"begin\": b, \"end\": e}, timeout=session.request_timeout)\n",
    "        r.raise_for_status()\n",
    "        data = r.json()\n",
    "        if data:\n",
    "            frames.append(pd.DataFrame(data))\n",
    "        time.sleep(0.1)  # бережно к API\n",
    "    return pd.concat(frames, ignore_index=True) if frames else pd.DataFrame()\n",
    "\n",
    "# ---------- основная загрузка с фоллбэком ----------\n",
    "print(\"Пробую загрузить из API с ретраями…\")\n",
    "sess = make_session()\n",
    "\n",
    "try:\n",
    "    # VISITS\n",
    "    visits_api = fetch_table_chunked(API_URL, \"visits\", DATE_BEGIN, DATE_END, sess) \\\n",
    "        .rename(columns={\"visit_id\": \"uuid\", \"datetime\": \"date\"})\n",
    "    visits_api[\"date\"] = pd.to_datetime(visits_api[\"date\"], errors=\"coerce\")\n",
    "    for c in [\"uuid\", \"platform\", \"user_agent\"]:\n",
    "        if c in visits_api.columns:\n",
    "            visits_api[c] = visits_api[c].astype(str).str.strip().str.lower()\n",
    "\n",
    "    # REGS\n",
    "    regs_api = fetch_table_chunked(API_URL, \"registrations\", DATE_BEGIN, DATE_END, sess) \\\n",
    "        .rename(columns={\"datetime\": \"date\"})\n",
    "    regs_api[\"date\"] = pd.to_datetime(regs_api[\"date\"], errors=\"coerce\")\n",
    "    for c in [\"user_id\", \"email\", \"platform\", \"registration_type\"]:\n",
    "        if c in regs_api.columns:\n",
    "            regs_api[c] = regs_api[c].astype(str).str.strip().str.lower()\n",
    "\n",
    "    print(\"OK из API:\", visits_api.shape, regs_api.shape)\n",
    "\n",
    "except Exception as e:\n",
    "    print(\"⚠️ Не удалось получить из API:\", repr(e))\n",
    "    print(\"Пробую взять локальные файлы…\")\n",
    "\n",
    "    # 1) processed CSV (твои чистые выгрузки)\n",
    "    v_csv = \"./data/processed/visits_api_clean.csv\"\n",
    "    r_csv = \"./data/processed/registrations_api_clean.csv\"\n",
    "    if os.path.exists(v_csv) and os.path.exists(r_csv):\n",
    "        visits_api = pd.read_csv(v_csv)\n",
    "        regs_api = pd.read_csv(r_csv)\n",
    "        visits_api[\"date\"] = pd.to_datetime(visits_api[\"date\"], errors=\"coerce\")\n",
    "        regs_api[\"date\"] = pd.to_datetime(regs_api[\"date\"], errors=\"coerce\")\n",
    "        print(\"OK из processed CSV:\", visits_api.shape, regs_api.shape)\n",
    "    else:\n",
    "        # 2) raw JSON (есть в data/raw)\n",
    "        v_json = f\"./data/raw/visits_{DATE_BEGIN}_{DATE_END}.json\"\n",
    "        r_json = f\"./data/raw/registrations_{DATE_BEGIN}_{DATE_END}.json\"\n",
    "        # если имена другие — подхватим любые подходящие\n",
    "        if not os.path.exists(v_json):\n",
    "            cand = [p for p in os.listdir(\"./data/raw\") if p.startswith(\"visits_\") and p.endswith(\".json\")]\n",
    "            if cand: v_json = os.path.join(\"./data/raw\", cand[0])\n",
    "        if not os.path.exists(r_json):\n",
    "            cand = [p for p in os.listdir(\"./data/raw\") if p.startswith(\"registrations_\") and p.endswith(\".json\")]\n",
    "            if cand: r_json = os.path.join(\"./data/raw\", cand[0])\n",
    "\n",
    "        if os.path.exists(v_json) and os.path.exists(r_json):\n",
    "            visits_api = pd.DataFrame(json.load(open(v_json, \"r\", encoding=\"utf-8\"))).rename(\n",
    "                columns={\"visit_id\": \"uuid\", \"datetime\": \"date\"}\n",
    "            )\n",
    "            regs_api = pd.DataFrame(json.load(open(r_json, \"r\", encoding=\"utf-8\"))).rename(\n",
    "                columns={\"datetime\": \"date\"}\n",
    "            )\n",
    "            visits_api[\"date\"] = pd.to_datetime(visits_api[\"date\"], errors=\"coerce\")\n",
    "            regs_api[\"date\"] = pd.to_datetime(regs_api[\"date\"], errors=\"coerce\")\n",
    "            for c in [\"uuid\", \"platform\", \"user_agent\"]:\n",
    "                if c in visits_api.columns:\n",
    "                    visits_api[c] = visits_api[c].astype(str).str.strip().str.lower()\n",
    "            for c in [\"user_id\", \"email\", \"platform\", \"registration_type\"]:\n",
    "                if c in regs_api.columns:\n",
    "                    regs_api[c] = regs_api[c].astype(str).str.strip().str.lower()\n",
    "            print(\"OK из raw JSON:\", visits_api.shape, regs_api.shape)\n",
    "        else:\n",
    "            raise RuntimeError(\"Нет ни API, ни локальных файлов для загрузки данных.\")\n",
    "\n"
   ]
  },
  {
   "cell_type": "code",
   "execution_count": 16,
   "id": "214bd8d5-7cfc-4d69-8ea3-241bac1026e6",
   "metadata": {},
   "outputs": [
    {
     "name": "stdout",
     "output_type": "stream",
     "text": [
      "saved: ./conversion.json\n",
      "saved: ./ads.json\n"
     ]
    },
    {
     "data": {
      "text/plain": [
       "(   date_group platform  visits  registrations  conversion\n",
       " 0  2023-03-01  android      75             61   81.333333\n",
       " 1  2023-03-01      ios      22             18   81.818182\n",
       " 2  2023-03-01      web     279              8    2.867384\n",
       " 3  2023-03-02  android      67             59   88.059701\n",
       " 4  2023-03-02      ios      31             24   77.419355,\n",
       "    date_group  visits  registrations                utm_campaign   cost\n",
       " 0  2023-03-01     376             87  advanced_algorithms_series  212.0\n",
       " 1  2023-03-02     613            106  advanced_algorithms_series  252.0\n",
       " 2  2023-03-03     683            107  advanced_algorithms_series  202.0\n",
       " 3  2023-03-04     647            159  advanced_algorithms_series  223.0\n",
       " 4  2023-03-05     707            115  advanced_algorithms_series  265.0)"
      ]
     },
     "execution_count": 16,
     "metadata": {},
     "output_type": "execute_result"
    }
   ],
   "source": [
    "import numpy as np\n",
    "# Преобразуем колонки к удобному виду и собираем данные из API\n",
    "params = {\"begin\": DATE_BEGIN, \"end\": DATE_END}\n",
    "\n",
    "# --- Визиты ---\n",
    "resp_v = requests.get(f\"{API_URL}/visits\", params=params, timeout=60)\n",
    "resp_v.raise_for_status()\n",
    "visits_api = pd.DataFrame(resp_v.json()).rename(columns={\"visit_id\": \"uuid\", \"datetime\": \"date\"})\n",
    "visits_api[\"date\"] = pd.to_datetime(visits_api[\"date\"], errors=\"coerce\")\n",
    "for c in [\"uuid\", \"platform\", \"user_agent\"]:\n",
    "    visits_api[c] = visits_api[c].astype(str).str.strip().str.lower()\n",
    "\n",
    "# --- Регистрации ---  <-- ЭТОГО БЛОКА НЕ ХВАТАЛО\n",
    "resp_r = requests.get(f\"{API_URL}/registrations\", params=params, timeout=60)\n",
    "resp_r.raise_for_status()\n",
    "regs_api = pd.DataFrame(resp_r.json()).rename(columns={\"datetime\": \"date\"})\n",
    "regs_api[\"date\"] = pd.to_datetime(regs_api[\"date\"], errors=\"coerce\")\n",
    "for c in [\"user_id\", \"email\", \"platform\", \"registration_type\"]:\n",
    "    regs_api[c] = regs_api[c].astype(str).str.strip().str.lower()\n",
    "\n",
    "# === 1) Готовим визиты и регистрации (работаем от visits_api / regs_api) ===\n",
    "visits = visits_api.copy()\n",
    "regs   = regs_api.copy()\n",
    "\n",
    "# исключаем ботов (по user_agent) из расчёта визитов\n",
    "visits[\"is_bot\"] = visits[\"user_agent\"].str.contains(\"bot\", na=False)\n",
    "visits_nobots = visits.loc[~visits[\"is_bot\"]].copy()\n",
    "\n",
    "# последний визит на пользователя\n",
    "visits_nobots = visits_nobots.sort_values(\"date\")\n",
    "last_visits = (\n",
    "    visits_nobots.groupby(\"uuid\", as_index=False)\n",
    "    .agg({\"date\": \"max\"})\n",
    ")\n",
    "visits_last = last_visits.merge(\n",
    "    visits_nobots[[\"uuid\", \"date\", \"platform\"]],\n",
    "    on=[\"uuid\", \"date\"],\n",
    "    how=\"left\"\n",
    ")\n",
    "\n",
    "# группируем по дням/платформам\n",
    "visits_last[\"date_group\"] = visits_last[\"date\"].dt.date\n",
    "visits_daily = (\n",
    "    visits_last.groupby([\"date_group\", \"platform\"], as_index=False)\n",
    "    .agg(visits=(\"uuid\", \"count\"))\n",
    ")\n",
    "\n",
    "regs[\"date_group\"] = regs[\"date\"].dt.date\n",
    "regs_daily = (\n",
    "    regs.groupby([\"date_group\", \"platform\"], as_index=False)\n",
    "    .agg(registrations=(\"user_id\", \"count\"))\n",
    ")\n",
    "\n",
    "# объединяем и считаем конверсию\n",
    "merged = (\n",
    "    visits_daily.merge(regs_daily, on=[\"date_group\", \"platform\"], how=\"outer\")\n",
    "    .fillna({\"visits\": 0, \"registrations\": 0})\n",
    ")\n",
    "merged[\"visits\"] = merged[\"visits\"].astype(int)\n",
    "merged[\"registrations\"] = merged[\"registrations\"].astype(int)\n",
    "\n",
    "# без округления!\n",
    "conv = merged[\"registrations\"] / merged[\"visits\"].replace(0, pd.NA)\n",
    "merged[\"conversion\"] = (conv * 100).astype(float)\n",
    "merged[\"conversion\"] = merged[\"conversion\"].fillna(0)\n",
    "\n",
    "\n",
    "# сохраняем conversion.json (требование автотестов)\n",
    "merged[[\"date_group\", \"platform\", \"visits\", \"registrations\", \"conversion\"]].to_json(\"./conversion.json\")\n",
    "print(\"saved: ./conversion.json\")\n",
    "\n",
    "# === 2) Ежедневные итоги и объединение с рекламой ===\n",
    "try:\n",
    "    ads = pd.read_csv(\"./ads.csv\")\n",
    "    ads.columns = [c.strip().lower() for c in ads.columns]\n",
    "    ads[\"date\"] = pd.to_datetime(ads[\"date\"], errors=\"coerce\")\n",
    "    ads[\"date_group\"] = ads[\"date\"].dt.date\n",
    "    ads_grouped = ads.groupby([\"date_group\", \"utm_campaign\"], as_index=False).agg(cost=(\"cost\", \"sum\"))\n",
    "except FileNotFoundError:\n",
    "    ads_grouped = pd.DataFrame(columns=[\"date_group\", \"utm_campaign\", \"cost\"])\n",
    "\n",
    "conv_daily = merged.groupby(\"date_group\", as_index=False)[[\"visits\", \"registrations\"]].sum()\n",
    "\n",
    "final = conv_daily.merge(ads_grouped, on=\"date_group\", how=\"left\")\n",
    "final[\"utm_campaign\"] = final[\"utm_campaign\"].fillna(\"none\")\n",
    "final[\"cost\"] = final[\"cost\"].fillna(0).astype(float)\n",
    "\n",
    "# сохраняем ads.json (требование автотестов)\n",
    "final[[\"date_group\", \"visits\", \"registrations\", \"cost\", \"utm_campaign\"]].to_json(\"./ads.json\")\n",
    "print(\"saved: ./ads.json\")\n",
    "\n",
    "merged.head(), final.head()\n"
   ]
  },
  {
   "cell_type": "code",
   "execution_count": null,
   "id": "4c84d8ac-45f5-45f1-a825-7187d83e751c",
   "metadata": {},
   "outputs": [],
   "source": [
    "print(\"Visits shape:\", visits.shape)\n",
    "print(\"Registrations shape:\", regs.shape)\n",
    "\n",
    "print(\"Доля дубликатов в visits:\", visits.duplicated().mean())\n",
    "print(\"Доля дубликатов в registrations:\", regs.duplicated().mean())"
   ]
  },
  {
   "cell_type": "code",
   "execution_count": null,
   "id": "8d1822dc-da8b-4957-b68d-bd96526221e2",
   "metadata": {},
   "outputs": [],
   "source": [
    "print(\"Пропуски в visits:\")\n",
    "print(visits.isna().mean())\n",
    "\n",
    "print(\"\\nПропуски в registrations:\")\n",
    "print(regs.isna().mean())"
   ]
  },
  {
   "cell_type": "code",
   "execution_count": null,
   "id": "ecb1afc5-cd04-4b46-a67c-470c39f22c4b",
   "metadata": {},
   "outputs": [],
   "source": [
    "print(\"Visits by platform:\")\n",
    "print(visits[\"platform\"].value_counts())\n",
    "\n",
    "print(\"\\nRegistrations by platform:\")\n",
    "print(regs[\"platform\"].value_counts())\n",
    "\n",
    "print(\"\\nRegistration types:\")\n",
    "print(regs[\"registration_type\"].value_counts())"
   ]
  },
  {
   "cell_type": "code",
   "execution_count": null,
   "id": "7ffbe0e6-9e15-40f9-bbeb-ebfec033d39a",
   "metadata": {},
   "outputs": [],
   "source": [
    "import pandas as pd\n",
    "import requests\n",
    "\n",
    "BASE = \"https://data-charts-api.hexlet.app\"\n",
    "BEGIN = \"2023-03-01\"\n",
    "END   = \"2023-09-01\"\n",
    "params = {\"begin\": BEGIN, \"end\": END}\n",
    "params"
   ]
  },
  {
   "cell_type": "code",
   "execution_count": null,
   "id": "d4b19edb-2d55-49ff-a670-ae0022b05244",
   "metadata": {},
   "outputs": [],
   "source": [
    "print(\"visits_api:\", visits_api.shape, \n",
    "      \"| nulls:\", visits_api.isna().mean().round(4).to_dict())\n",
    "print(\"regs_api:\", regs_api.shape, \n",
    "      \"| nulls:\", regs_api.isna().mean().round(4).to_dict())\n",
    "\n",
    "print(\"\\nVisits platforms:\\n\", visits_api[\"platform\"].value_counts().head(10))\n",
    "print(\"\\nRegs platforms:\\n\", regs_api[\"platform\"].value_counts().head(10))\n",
    "print(\"\\nRegs types:\\n\", regs_api[\"registration_type\"].value_counts().head(10))\n"
   ]
  },
  {
   "cell_type": "code",
   "execution_count": null,
   "id": "894bae7d-f341-466d-8eec-6bda4e24ff8e",
   "metadata": {},
   "outputs": [],
   "source": [
    "# убираем визиты ботов\n",
    "visits_clean = visits_api[~visits_api[\"user_agent\"].str.contains(\"bot\", case=False, na=False)].copy()\n",
    "\n",
    "# для каждого uuid оставим только последний визит\n",
    "visits_clean = visits_clean.sort_values(\"date\").drop_duplicates(\"uuid\", keep=\"last\")\n",
    "\n",
    "# агрегируем: количество визитов по дате и платформе\n",
    "visits_grouped = visits_clean.groupby([visits_clean[\"date\"].dt.date, \"platform\"]).size().reset_index(name=\"visits\")\n",
    "\n",
    "visits_grouped = visits_grouped.rename(columns={\"date\": \"date_group\"})\n",
    "visits_grouped.head()"
   ]
  },
  {
   "cell_type": "code",
   "execution_count": null,
   "id": "3f29c80e-558c-475c-a473-dd5186da582f",
   "metadata": {},
   "outputs": [],
   "source": [
    "# агрегируем регистрации: количество по дате и платформе\n",
    "regs_grouped = regs_api.groupby([regs_api[\"date\"].dt.date, \"platform\"]).size().reset_index(name=\"registrations\")\n",
    "\n",
    "regs_grouped = regs_grouped.rename(columns={\"date\": \"date_group\"})\n",
    "regs_grouped.head()"
   ]
  },
  {
   "cell_type": "code",
   "execution_count": null,
   "id": "b960a283-ce29-428b-a5ad-aee42ee2e58a",
   "metadata": {
    "scrolled": true
   },
   "outputs": [],
   "source": [
    "# объединение по дате и платформе\n",
    "merged = pd.merge(visits_grouped, regs_grouped, on=[\"date_group\", \"platform\"], how=\"outer\")\n",
    "\n",
    "# если где-то нет регистраций или визитов → ставим 0\n",
    "merged = merged.fillna(0)\n",
    "\n",
    "# конверсия = (registrations / visits * 100)\n",
    "merged[\"conversion\"] = (\n",
    "    merged[\"registrations\"] / merged[\"visits\"].replace(0, pd.NA) * 100\n",
    ").fillna(0)\n",
    "\n",
    "# сортируем по дате\n",
    "merged = merged.sort_values(\"date_group\").reset_index(drop=True)\n",
    "\n",
    "merged.head(10)\n"
   ]
  },
  {
   "cell_type": "code",
   "execution_count": 15,
   "id": "c5b98ec8-2707-4e07-8138-c0a287b7748c",
   "metadata": {},
   "outputs": [
    {
     "data": {
      "text/plain": [
       "(   date_group platform  visits  registrations  conversion\n",
       " 0  2023-03-01  android      75             61   81.333333\n",
       " 1  2023-03-01      ios      22             18   81.818182\n",
       " 2  2023-03-01      web     279              8    2.867384\n",
       " 3  2023-03-02  android      67             59   88.059701\n",
       " 4  2023-03-02      ios      31             24   77.419355,\n",
       "    date_group  visits  registrations\n",
       " 0  2023-03-01     376             87\n",
       " 1  2023-03-02     613            106\n",
       " 2  2023-03-03     683            107\n",
       " 3  2023-03-04     647            159\n",
       " 4  2023-03-05     707            115)"
      ]
     },
     "execution_count": 15,
     "metadata": {},
     "output_type": "execute_result"
    }
   ],
   "source": [
    "# Убираем ботов и берём последний визит на uuid\n",
    "visits_clean = visits_api[~visits_api[\"user_agent\"].str.contains(\"bot\", case=False, na=False)].copy()\n",
    "visits_clean = visits_clean.sort_values(\"date\").drop_duplicates(\"uuid\", keep=\"last\")\n",
    "\n",
    "# Агрегации визитов и регистраций по дате и платформе\n",
    "vg = visits_clean.groupby([visits_clean[\"date\"].dt.date, \"platform\"]).size().reset_index(name=\"visits\")\n",
    "vg = vg.rename(columns={\"date\": \"date_group\"})\n",
    "\n",
    "rg = regs_api.groupby([regs_api[\"date\"].dt.date, \"platform\"]).size().reset_index(name=\"registrations\")\n",
    "rg = rg.rename(columns={\"date\": \"date_group\"})\n",
    "\n",
    "# Итоговый датафрейм с конверсией\n",
    "merged = pd.merge(vg, rg, on=[\"date_group\", \"platform\"], how=\"outer\").fillna(0)\n",
    "merged[\"conversion\"] = (\n",
    "    merged[\"registrations\"] / merged[\"visits\"].replace(0, pd.NA) * 100\n",
    ").replace([float(\"inf\"), -float(\"inf\")], 0).fillna(0)\n",
    "\n",
    "# Сводка по дням без платформ (для рекламы)\n",
    "conv_daily = merged.groupby(\"date_group\", as_index=False)[[\"visits\",\"registrations\"]].sum()\n",
    "\n",
    "merged.head(), conv_daily.head()"
   ]
  },
  {
   "cell_type": "code",
   "execution_count": null,
   "id": "ab0c446b-575f-4f5b-a958-224eefb8e17b",
   "metadata": {},
   "outputs": [],
   "source": [
    "ads = pd.read_csv(\"./ads.csv\")\n",
    "ads.columns = [c.strip().lower() for c in ads.columns]\n",
    "ads[\"date\"] = pd.to_datetime(ads[\"date\"], errors=\"coerce\")\n",
    "ads[\"date_group\"] = ads[\"date\"].dt.date\n",
    "\n",
    "ads_grouped = ads.groupby([\"date_group\",\"utm_campaign\"], as_index=False)[\"cost\"].sum()\n",
    "\n",
    "# Объединение с дневной статистикой\n",
    "final = conv_daily.merge(ads_grouped, on=\"date_group\", how=\"left\")\n",
    "final[\"utm_campaign\"] = final[\"utm_campaign\"].fillna(\"none\")\n",
    "final[\"cost\"] = final[\"cost\"].fillna(0)\n",
    "\n",
    "final.head()"
   ]
  },
  {
   "cell_type": "code",
   "execution_count": 13,
   "id": "fe7d5f69-285d-4aed-ba9c-fdc2a3f59bf0",
   "metadata": {},
   "outputs": [
    {
     "name": "stdout",
     "output_type": "stream",
     "text": [
      "saved: ./conversion.json\n"
     ]
    }
   ],
   "source": [
    "merged[[\"date_group\",\"platform\",\"visits\",\"registrations\",\"conversion\"]].to_json(\n",
    "    \"./conversion.json\", double_precision=10\n",
    ")\n",
    "print(\"saved: ./conversion.json\")"
   ]
  },
  {
   "cell_type": "code",
   "execution_count": null,
   "id": "0b2c38a6-89d1-48d4-a648-68e62428d5e0",
   "metadata": {},
   "outputs": [],
   "source": [
    "# 1) читаем файл рекламы\n",
    "# если вдруг у тебя разделитель ; (точка с запятой), смени на: pd.read_csv(\"../data/raw/ads.csv\", sep=\";\")\n",
    "ads = pd.read_csv(\"./ads.csv\")   # файл лежит рядом с ноутбуком\n",
    "ads.columns = [c.strip().lower() for c in ads.columns]\n",
    "ads[\"date\"] = pd.to_datetime(ads[\"date\"], errors=\"coerce\")\n",
    "ads[\"date_group\"] = ads[\"date\"].dt.date\n",
    "\n",
    "# 2) приведение типов/колонок\n",
    "# ожидаемые колонки: date, utm_source, utm_medium, utm_campaign, cost\n",
    "ads.columns = [c.strip().lower() for c in ads.columns]\n",
    "ads[\"date\"] = pd.to_datetime(ads[\"date\"], errors=\"coerce\")\n",
    "ads[\"date_group\"] = ads[\"date\"].dt.date\n",
    "\n",
    "# 3) оставим только нужные поля (для задачи нам нужны дата, кампания, затраты)\n",
    "ads = ads[[\"date_group\", \"utm_campaign\", \"cost\"]]\n",
    "\n",
    "ads.head()"
   ]
  },
  {
   "cell_type": "code",
   "execution_count": null,
   "id": "9d05de8d-fc9d-4e51-ba52-0a422f16261a",
   "metadata": {},
   "outputs": [],
   "source": [
    "ads_grouped = (\n",
    "    ads.groupby([\"date_group\", \"utm_campaign\"], as_index=False)[\"cost\"]\n",
    "       .sum()\n",
    ")\n",
    "ads_grouped.head()\n"
   ]
  },
  {
   "cell_type": "code",
   "execution_count": null,
   "id": "b7e936ef-1ff8-4c5b-84f9-b49537c3d5ff",
   "metadata": {},
   "outputs": [],
   "source": [
    "# если у тебя уже есть merged из предыдущего шага\n",
    "conv_daily = merged.groupby(\"date_group\", as_index=False)[[\"visits\", \"registrations\"]].sum()\n",
    "conv_daily.head()"
   ]
  },
  {
   "cell_type": "code",
   "execution_count": null,
   "id": "136f2149-4551-4fdd-a761-4e5a79f37e6b",
   "metadata": {},
   "outputs": [],
   "source": [
    "final = conv_daily.merge(ads_grouped, on=\"date_group\", how=\"left\")\n",
    "\n",
    "# если рекламы в этот день не было — ставим «none» и 0\n",
    "final[\"utm_campaign\"] = final[\"utm_campaign\"].fillna(\"none\")\n",
    "final[\"cost\"] = final[\"cost\"].fillna(0)\n",
    "\n",
    "# сортируем по дате\n",
    "final = final.sort_values(\"date_group\").reset_index(drop=True)\n",
    "final.head(10)"
   ]
  },
  {
   "cell_type": "code",
   "execution_count": null,
   "id": "1ddde701-5457-4469-b8dc-43b8447a7764",
   "metadata": {},
   "outputs": [],
   "source": [
    "final[[\"date_group\",\"visits\",\"registrations\",\"cost\",\"utm_campaign\"]].to_json(\n",
    "    \"./ads.json\",\n",
    "    double_precision=10\n",
    ")"
   ]
  },
  {
   "cell_type": "code",
   "execution_count": null,
   "id": "994c97b2-ac2d-40f5-befe-f9bee4fd8d11",
   "metadata": {},
   "outputs": [],
   "source": [
    "from pathlib import Path\n",
    "import matplotlib.pyplot as plt\n",
    "\n",
    "CHARTS = Path(\"./charts\")        # ВАЖНО: ровно ./charts\n",
    "CHARTS.mkdir(parents=True, exist_ok=True)\n",
    "\n",
    "plt.figure()\n",
    "plt.plot([0, 1], [0, 1])         # любой простой график\n",
    "plt.title(\"smoke chart\")\n",
    "plt.tight_layout()\n",
    "plt.savefig(CHARTS / \"_smoke.png\", dpi=120)\n",
    "plt.close()\n",
    "print(\"chart saved to\", CHARTS / \"_smoke.png\")"
   ]
  },
  {
   "cell_type": "code",
   "execution_count": 12,
   "id": "c72d3751-e94b-49a5-a0aa-7482b46f9d87",
   "metadata": {},
   "outputs": [],
   "source": [
    "from pathlib import Path\n",
    "import pandas as pd\n",
    "import matplotlib.pyplot as plt\n",
    "\n",
    "# где сохраняем (Важно: ровно ./charts)\n",
    "CHARTS = Path(\"./charts\")          # <-- строго ./charts\n",
    "CHARTS.mkdir(parents=True, exist_ok=True)\n",
    "\n",
    "\n",
    "# ВОССТАНОВЛЕНИЕ ДАННЫХ (если переменных нет в памяти)\n",
    "# merged: по дням и платформам (date_group, platform, visits, registrations, conversion)\n",
    "try:\n",
    "    merged\n",
    "except NameError:\n",
    "    # пересоберём из visits_api / regs_api\n",
    "    # 1) визиты без ботов, последний визит на uuid\n",
    "    visits_clean = visits_api[~visits_api[\"user_agent\"].str.contains(\"bot\", case=False, na=False)].copy()\n",
    "    visits_clean = visits_clean.sort_values(\"date\").drop_duplicates(\"uuid\", keep=\"last\")\n",
    "    vg = visits_clean.groupby([visits_clean[\"date\"].dt.date, \"platform\"]).size().reset_index(name=\"visits\")\n",
    "    vg = vg.rename(columns={\"date\": \"date_group\"})\n",
    "\n",
    "    # 2) регистрации\n",
    "    rg = regs_api.groupby([regs_api[\"date\"].dt.date, \"platform\"]).size().reset_index(name=\"registrations\")\n",
    "    rg = rg.rename(columns={\"date\": \"date_group\"})\n",
    "\n",
    "\n",
    "    import numpy as np  # добавь выше, если не импортировано\n",
    "    # 3) объединяем и считаем конверсию\n",
    "    merged = pd.merge(vg, rg, on=[\"date_group\", \"platform\"], how=\"outer\").fillna(0)\n",
    "\n",
    "    # без округления до 2 знаков (как требуют тесты)\n",
    "    merged[\"conversion\"] = (\n",
    "        merged[\"registrations\"] / merged[\"visits\"].replace(0, np.nan) * 100\n",
    "    )\n",
    "    merged[\"conversion\"] = merged[\"conversion\"].fillna(0)\n",
    "\n",
    "\n",
    "\n",
    "# сводка по дням (без платформ)\n",
    "conv_daily = merged.groupby(\"date_group\", as_index=False)[[\"visits\",\"registrations\"]].sum()\n",
    "\n",
    "# final: conv_daily + реклама (date_group, visits, registrations, cost, utm_campaign)\n",
    "try:\n",
    "    final\n",
    "except NameError:\n",
    "    # читаем РОВНО из ./ads.csv (так ждут тесты)\n",
    "    ads = pd.read_csv(\"./ads.csv\")\n",
    "    ads[\"date\"] = pd.to_datetime(ads[\"date\"], errors=\"coerce\")\n",
    "    ads[\"date_group\"] = ads[\"date\"].dt.date\n",
    "    ads_grouped = ads.groupby([\"date_group\",\"utm_campaign\"], as_index=False)[\"cost\"].sum()\n",
    "    final = conv_daily.merge(ads_grouped, on=\"date_group\", how=\"left\")\n",
    "    final[\"utm_campaign\"] = final[\"utm_campaign\"].fillna(\"none\")\n",
    "    final[\"cost\"] = final[\"cost\"].fillna(0)\n",
    "\n",
    "# вспомогательные функции для подписей\n",
    "def annotate_bars(ax, fmt=\"{:,.0f}\", rotation=0, fontsize=8):\n",
    "    for p in ax.patches:\n",
    "        h = p.get_height()\n",
    "        x = p.get_x() + p.get_width()/2\n",
    "        ax.text(x, h, fmt.format(h), ha=\"center\", va=\"bottom\", fontsize=fontsize, rotation=rotation)\n",
    "\n",
    "def annotate_points(ax, x, y, step=7, fmt=\"{}\", fontsize=7):\n",
    "    \"\"\"Подписываем каждую N-ю точку и обязательно последнюю.\n",
    "    Индексируем ПО ПОЗИЦИИ (iloc), чтобы не ловить KeyError.\"\"\"\n",
    "    x = pd.Series(x).reset_index(drop=True)\n",
    "    y = pd.Series(y).reset_index(drop=True)\n",
    "    n = len(x)\n",
    "    step = max(1, int(step))\n",
    "    for i in range(0, n, step):\n",
    "        ax.text(x.iloc[i], y.iloc[i], fmt.format(y.iloc[i]),\n",
    "                fontsize=fontsize, ha=\"center\", va=\"bottom\")\n",
    "    if n > 0:\n",
    "        ax.text(x.iloc[-1], y.iloc[-1], fmt.format(y.iloc[-1]),\n",
    "                fontsize=fontsize, ha=\"left\", va=\"bottom\")\n",
    "\n",
    "# общие агрегаты (пригодятся для подписей)\n",
    "total_visits = conv_daily[\"visits\"].sum()\n",
    "total_regs = conv_daily[\"registrations\"].sum()"
   ]
  },
  {
   "cell_type": "code",
   "execution_count": null,
   "id": "c9791c87-bb14-4d78-a9bd-210a77624799",
   "metadata": {},
   "outputs": [],
   "source": [
    "plt.figure()\n",
    "ax = plt.gca()\n",
    "bars = ax.bar([\"total\"], [total_visits])\n",
    "ax.set_title(\"Итоговые визиты (за период)\")\n",
    "ax.set_ylabel(\"Визитов\")\n",
    "annotate_bars(ax, fmt=\"{:,.0f}\")\n",
    "plt.tight_layout()\n",
    "plt.savefig(CHARTS / \"visits_total.png\", dpi=150)\n",
    "plt.show()"
   ]
  },
  {
   "cell_type": "code",
   "execution_count": null,
   "id": "cd0bfd61-8d11-4ba9-952f-679eb48efbb4",
   "metadata": {},
   "outputs": [],
   "source": [
    "by_plat_vis = merged.groupby(\"platform\", as_index=False)[\"visits\"].sum()\n",
    "\n",
    "plt.figure()\n",
    "ax = plt.gca()\n",
    "ax.bar(by_plat_vis[\"platform\"], by_plat_vis[\"visits\"])\n",
    "ax.set_title(\"Итоговые визиты по платформам\")\n",
    "ax.set_xlabel(\"Платформа\")\n",
    "ax.set_ylabel(\"Визитов\")\n",
    "annotate_bars(ax, fmt=\"{:,.0f}\")\n",
    "plt.tight_layout()\n",
    "plt.savefig(CHARTS / \"visits_by_platform_total.png\", dpi=150)\n",
    "plt.show()"
   ]
  },
  {
   "cell_type": "code",
   "execution_count": null,
   "id": "5ea22338-2bfa-4c04-86d5-619c3bf6805d",
   "metadata": {},
   "outputs": [],
   "source": [
    "plt.figure()\n",
    "ax = plt.gca()\n",
    "ax.bar([\"total\"], [total_regs])\n",
    "ax.set_title(\"Итоговые регистрации (за период)\")\n",
    "ax.set_ylabel(\"Регистраций\")\n",
    "annotate_bars(ax, fmt=\"{:,.0f}\")\n",
    "plt.tight_layout()\n",
    "plt.savefig(CHARTS / \"registrations_total.png\", dpi=150)\n",
    "plt.show()\n"
   ]
  },
  {
   "cell_type": "code",
   "execution_count": null,
   "id": "46ad67d4-1130-418a-bd31-cc2a6573173b",
   "metadata": {},
   "outputs": [],
   "source": [
    "by_plat_regs = merged.groupby(\"platform\", as_index=False)[\"registrations\"].sum()\n",
    "\n",
    "plt.figure()\n",
    "ax = plt.gca()\n",
    "ax.bar(by_plat_regs[\"platform\"], by_plat_regs[\"registrations\"])\n",
    "ax.set_title(\"Итоговые регистрации по платформам\")\n",
    "ax.set_xlabel(\"Платформа\")\n",
    "ax.set_ylabel(\"Регистраций\")\n",
    "annotate_bars(ax, fmt=\"{:,.0f}\")\n",
    "plt.tight_layout()\n",
    "plt.savefig(CHARTS / \"registrations_by_platform_total.png\", dpi=150)\n",
    "plt.show()\n"
   ]
  },
  {
   "cell_type": "code",
   "execution_count": null,
   "id": "6ba191e1-9159-443c-a642-81e55a47df40",
   "metadata": {},
   "outputs": [],
   "source": [
    "conv_pf = (\n",
    "    merged.groupby([\"date_group\",\"platform\"], as_index=False)[[\"visits\",\"registrations\"]].sum()\n",
    ")\n",
    "conv_pf[\"conversion\"] = (conv_pf[\"registrations\"] / conv_pf[\"visits\"] * 100).replace([float(\"inf\")], 0)\n",
    "\n",
    "plt.figure()\n",
    "ax = plt.gca()\n",
    "for plat, sub in conv_pf.groupby(\"platform\"):\n",
    "    ax.plot(sub[\"date_group\"], sub[\"conversion\"], label=plat)\n",
    "\n",
    "ax.set_title(\"Конверсия по платформам (по дням), %\")\n",
    "ax.set_xlabel(\"Дата\")\n",
    "ax.set_ylabel(\"Конверсия, %\")\n",
    "plt.xticks(rotation=45)\n",
    "ax.legend(title=\"Платформа\")\n",
    "plt.tight_layout()\n",
    "plt.savefig(CHARTS / \"conversion_by_platform_daily.png\", dpi=150)\n",
    "plt.show()"
   ]
  },
  {
   "cell_type": "code",
   "execution_count": null,
   "id": "a07d06c3-e5da-48a5-a111-f8b6e83d7bff",
   "metadata": {},
   "outputs": [],
   "source": [
    "overall_conv = total_regs / total_visits * 100 if total_visits else 0\n",
    "\n",
    "plt.figure()\n",
    "ax = plt.gca()\n",
    "ax.bar([\"average\"], [overall_conv])\n",
    "ax.set_title(\"Средняя конверсия за период, %\")\n",
    "ax.set_ylabel(\"Конверсия, %\")\n",
    "annotate_bars(ax, fmt=\"{:.2f}%\")\n",
    "plt.tight_layout()\n",
    "plt.savefig(CHARTS / \"conversion_average.png\", dpi=150)\n",
    "plt.show()\n"
   ]
  },
  {
   "cell_type": "code",
   "execution_count": null,
   "id": "31947711-4e1f-4371-b25f-01b1f41ccaca",
   "metadata": {},
   "outputs": [],
   "source": [
    "cost_daily = final.groupby(\"date_group\", as_index=False)[\"cost\"].sum()\n",
    "\n",
    "plt.figure()\n",
    "ax = plt.gca()\n",
    "ax.plot(cost_daily[\"date_group\"], cost_daily[\"cost\"])\n",
    "annotate_points(ax, cost_daily[\"date_group\"], cost_daily[\"cost\"], step=7, fmt=\"{:,.0f}\")\n",
    "ax.set_title(\"Затраты на рекламу по дням\")\n",
    "ax.set_xlabel(\"Дата\")\n",
    "ax.set_ylabel(\"Затраты\")\n",
    "plt.xticks(rotation=45)\n",
    "plt.tight_layout()\n",
    "plt.savefig(CHARTS / \"ads_cost_daily.png\", dpi=150)\n",
    "plt.show()\n"
   ]
  },
  {
   "cell_type": "code",
   "execution_count": null,
   "id": "9fcb0d56-c2f8-4fe6-b79f-54d4a1b04ed2",
   "metadata": {},
   "outputs": [],
   "source": [
    "plt.figure()\n",
    "ax = plt.gca()\n",
    "for camp, sub in final.groupby(\"utm_campaign\"):\n",
    "    ax.scatter(sub[\"date_group\"], sub[\"visits\"], label=camp, s=15)\n",
    "    annotate_points(ax, sub[\"date_group\"], sub[\"visits\"], step=7, fmt=\"{:,.0f}\", fontsize=7)\n",
    "\n",
    "ax.set_title(\"Визиты с выделением рекламных кампаний\")\n",
    "ax.set_xlabel(\"Дата\")\n",
    "ax.set_ylabel(\"Визитов\")\n",
    "plt.xticks(rotation=45)\n",
    "ax.legend(title=\"utm_campaign\", fontsize=8)\n",
    "plt.tight_layout()\n",
    "plt.savefig(CHARTS / \"visits_with_campaigns.png\", dpi=150)\n",
    "plt.show()"
   ]
  },
  {
   "cell_type": "code",
   "execution_count": null,
   "id": "828d6dbd-450d-4886-aa10-5a207baecf39",
   "metadata": {},
   "outputs": [],
   "source": [
    "plt.figure()\n",
    "ax = plt.gca()\n",
    "for camp, sub in final.groupby(\"utm_campaign\"):\n",
    "    ax.scatter(sub[\"date_group\"], sub[\"registrations\"], label=camp, s=15)\n",
    "    annotate_points(ax, sub[\"date_group\"], sub[\"registrations\"], step=7, fmt=\"{:,.0f}\", fontsize=7)\n",
    "\n",
    "ax.set_title(\"Регистрации с выделением рекламных кампаний\")\n",
    "ax.set_xlabel(\"Дата\")\n",
    "ax.set_ylabel(\"Регистраций\")\n",
    "plt.xticks(rotation=45)\n",
    "ax.legend(title=\"utm_campaign\", fontsize=8)\n",
    "plt.tight_layout()\n",
    "plt.savefig(CHARTS / \"registrations_with_campaigns.png\", dpi=150)\n",
    "plt.show()"
   ]
  },
  {
   "cell_type": "code",
   "execution_count": 14,
   "id": "97490c34-db9d-4e28-bc49-0d3bc85cebfc",
   "metadata": {},
   "outputs": [
    {
     "name": "stdout",
     "output_type": "stream",
     "text": [
      "Есть ли charts папка?: True\n",
      "Есть ли conversion.json?: True\n",
      "Есть ли ads.json?: True\n"
     ]
    },
    {
     "data": {
      "text/plain": [
       "[('0', 81.3333333333), ('1', 81.8181818182), ('2', 2.8673835125)]"
      ]
     },
     "execution_count": 14,
     "metadata": {},
     "output_type": "execute_result"
    }
   ],
   "source": [
    "import os, json, pandas as pd\n",
    "\n",
    "print(\"Есть ли charts папка?:\", os.path.isdir(\"./charts\"))\n",
    "print(\"Есть ли conversion.json?:\", os.path.isfile(\"./conversion.json\"))\n",
    "print(\"Есть ли ads.json?:\", os.path.isfile(\"./ads.json\"))\n",
    "\n",
    "# проверим формат и наличие дробной точности\n",
    "j = json.loads(open(\"./conversion.json\", \"r\", encoding=\"utf-8\").read())\n",
    "# покажем первые пару значений для контроля точности\n",
    "list(j[\"conversion\"].items())[:3]\n"
   ]
  },
  {
   "cell_type": "code",
   "execution_count": 17,
   "id": "d572bfd9-a9db-4b43-9554-d70e2e70f35e",
   "metadata": {},
   "outputs": [
    {
     "name": "stdout",
     "output_type": "stream",
     "text": [
      "True\n"
     ]
    },
    {
     "data": {
      "text/plain": [
       "[('0', 81.3333333333), ('1', 81.8181818182), ('2', 2.8673835125)]"
      ]
     },
     "execution_count": 17,
     "metadata": {},
     "output_type": "execute_result"
    }
   ],
   "source": [
    "import json, os, pandas as pd\n",
    "print(os.path.isfile(\"./conversion.json\"))\n",
    "j = json.loads(open(\"./conversion.json\",\"r\",encoding=\"utf-8\").read())\n",
    "list(j[\"conversion\"].items())[:3]  # д"
   ]
  },
  {
   "cell_type": "code",
   "execution_count": null,
   "id": "98eaf8a5-0473-45b5-8eeb-d0465125bd15",
   "metadata": {},
   "outputs": [],
   "source": []
  }
 ],
 "metadata": {
  "kernelspec": {
   "display_name": "Python 3 (ipykernel)",
   "language": "python",
   "name": "python3"
  },
  "language_info": {
   "codemirror_mode": {
    "name": "ipython",
    "version": 3
   },
   "file_extension": ".py",
   "mimetype": "text/x-python",
   "name": "python",
   "nbconvert_exporter": "python",
   "pygments_lexer": "ipython3",
   "version": "3.12.7"
  }
 },
 "nbformat": 4,
 "nbformat_minor": 5
}
